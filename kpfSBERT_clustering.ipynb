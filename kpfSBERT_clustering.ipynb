{
 "cells": [
  {
   "cell_type": "code",
   "execution_count": 1,
   "id": "f6fac783",
   "metadata": {},
   "outputs": [],
   "source": [
    "from sentence_transformers import SentenceTransformer\n",
    "from datetime import datetime\n",
    "\n",
    "import logging\n",
    "import re\n",
    "\n",
    "import numpy as np\n",
    "import pandas as pd\n",
    "\n",
    "import hdbscan\n",
    "import umap\n",
    "\n",
    "import matplotlib.pyplot as plt"
   ]
  },
  {
   "cell_type": "code",
   "execution_count": 2,
   "id": "a909b724",
   "metadata": {},
   "outputs": [],
   "source": [
    "import warnings\n",
    "warnings.filterwarnings(action='ignore')"
   ]
  },
  {
   "cell_type": "code",
   "execution_count": 3,
   "id": "181668d9",
   "metadata": {},
   "outputs": [],
   "source": [
    "model_path = \"kpfsbert-base\" # sbert\n",
    "cluster_mode = 'title'"
   ]
  },
  {
   "cell_type": "code",
   "execution_count": 4,
   "id": "4eecebf3",
   "metadata": {},
   "outputs": [
    {
     "data": {
      "text/plain": [
       "12006"
      ]
     },
     "execution_count": 4,
     "metadata": {},
     "output_type": "execute_result"
    }
   ],
   "source": [
    "# Data Loading to clustering\n",
    "DATA_PATH = 'data/newstrust/newstrust_20210601_samlple.json'\n",
    "df = pd.read_json(DATA_PATH, encoding='utf-8')\n",
    "len(df)"
   ]
  },
  {
   "cell_type": "code",
   "execution_count": 5,
   "id": "1e3048db",
   "metadata": {},
   "outputs": [],
   "source": [
    "#kpfSBERT 모델 로딩\n",
    "model = SentenceTransformer(model_path)"
   ]
  },
  {
   "cell_type": "code",
   "execution_count": 6,
   "id": "040def4d",
   "metadata": {},
   "outputs": [],
   "source": [
    "# UMAP 차원축소 실행\n",
    "def umap_process(corpus_embeddings, n_components=5):\n",
    "    umap_embeddings = umap.UMAP(n_neighbors=15, \n",
    "                                n_components=n_components, \n",
    "                                metric='cosine').fit_transform(corpus_embeddings)\n",
    "    return umap_embeddings"
   ]
  },
  {
   "cell_type": "code",
   "execution_count": 7,
   "id": "ab25bfbe",
   "metadata": {},
   "outputs": [],
   "source": [
    "# HDBSCAN 실행\n",
    "def hdbscan_process(corpus, corpus_embeddings, min_cluster_size=15, min_samples=10, umap=True, n_components=5, method='eom'):\n",
    "    \n",
    "    if umap:\n",
    "        umap_embeddings = umap_process(corpus_embeddings, n_components)\n",
    "    else:\n",
    "        umap_embeddings = corpus_embeddings\n",
    "    \n",
    "    cluster = hdbscan.HDBSCAN(min_cluster_size=min_cluster_size,\n",
    "                              min_samples=10,\n",
    "                              allow_single_cluster=True,\n",
    "                              metric='euclidean',\n",
    "                              core_dist_n_jobs=1,# knn_data = Parallel(n_jobs=self.n_jobs, max_nbytes=None) in joblib\n",
    "                              cluster_selection_method=method).fit(umap_embeddings) #eom leaf\n",
    "\n",
    "    docs_df = pd.DataFrame(corpus, columns=[\"Doc\"])\n",
    "    docs_df['Topic'] = cluster.labels_\n",
    "    docs_df['Doc_ID'] = range(len(docs_df))\n",
    "    docs_per_topic = docs_df.groupby(['Topic'], as_index = False).agg({'Doc': ' '.join})\n",
    "    \n",
    "    return docs_df, docs_per_topic"
   ]
  },
  {
   "cell_type": "code",
   "execution_count": 8,
   "id": "c6be4237",
   "metadata": {
    "scrolled": false
   },
   "outputs": [
    {
     "name": "stdout",
     "output_type": "stream",
     "text": [
      "작업 시작시간 :  2021-12-13 14:57:41.800864\n",
      " processing start... with cluster_mode : title\n"
     ]
    },
    {
     "data": {
      "application/vnd.jupyter.widget-view+json": {
       "model_id": "bf9e3c7262784e299fb66a004315b581",
       "version_major": 2,
       "version_minor": 0
      },
      "text/plain": [
       "Batches:   0%|          | 0/26 [00:00<?, ?it/s]"
      ]
     },
     "metadata": {},
     "output_type": "display_data"
    },
    {
     "name": "stdout",
     "output_type": "stream",
     "text": [
      "819 docs, 10 clusters in IT 과학 , 소요시간 : 0:00:02.874309\n"
     ]
    },
    {
     "data": {
      "application/vnd.jupyter.widget-view+json": {
       "model_id": "6b34f61bc2fc4ff99f6a506670eab910",
       "version_major": 2,
       "version_minor": 0
      },
      "text/plain": [
       "Batches:   0%|          | 0/84 [00:00<?, ?it/s]"
      ]
     },
     "metadata": {},
     "output_type": "display_data"
    },
    {
     "name": "stdout",
     "output_type": "stream",
     "text": [
      "2662 docs, 38 clusters in 경제 , 소요시간 : 0:00:09.710102\n"
     ]
    },
    {
     "data": {
      "application/vnd.jupyter.widget-view+json": {
       "model_id": "99eba517df094d5c9f9ec04f9461cca8",
       "version_major": 2,
       "version_minor": 0
      },
      "text/plain": [
       "Batches:   0%|          | 0/22 [00:00<?, ?it/s]"
      ]
     },
     "metadata": {},
     "output_type": "display_data"
    },
    {
     "name": "stdout",
     "output_type": "stream",
     "text": [
      "692 docs, 11 clusters in 국제 , 소요시간 : 0:00:01.096068\n"
     ]
    },
    {
     "data": {
      "application/vnd.jupyter.widget-view+json": {
       "model_id": "6573eef7c1c44b94861dd3baa3e3073d",
       "version_major": 2,
       "version_minor": 0
      },
      "text/plain": [
       "Batches:   0%|          | 0/149 [00:00<?, ?it/s]"
      ]
     },
     "metadata": {},
     "output_type": "display_data"
    },
    {
     "name": "stdout",
     "output_type": "stream",
     "text": [
      "4751 docs, 53 clusters in 사회 , 소요시간 : 0:00:28.037984\n"
     ]
    },
    {
     "data": {
      "application/vnd.jupyter.widget-view+json": {
       "model_id": "abcd86e8f9d544e2993be2749b94f6dd",
       "version_major": 2,
       "version_minor": 0
      },
      "text/plain": [
       "Batches:   0%|          | 0/18 [00:00<?, ?it/s]"
      ]
     },
     "metadata": {},
     "output_type": "display_data"
    },
    {
     "name": "stdout",
     "output_type": "stream",
     "text": [
      "562 docs, 4 clusters in 연예 , 소요시간 : 0:00:00.881641\n"
     ]
    },
    {
     "data": {
      "application/vnd.jupyter.widget-view+json": {
       "model_id": "9f0884a753984f3f923f2cbca5708f4a",
       "version_major": 2,
       "version_minor": 0
      },
      "text/plain": [
       "Batches:   0%|          | 0/20 [00:00<?, ?it/s]"
      ]
     },
     "metadata": {},
     "output_type": "display_data"
    },
    {
     "name": "stdout",
     "output_type": "stream",
     "text": [
      "637 docs, 5 clusters in 문화 예술 , 소요시간 : 0:00:00.920537\n"
     ]
    },
    {
     "data": {
      "application/vnd.jupyter.widget-view+json": {
       "model_id": "93ee2857e53b429486fcd18bf7dc9ed1",
       "version_major": 2,
       "version_minor": 0
      },
      "text/plain": [
       "Batches:   0%|          | 0/3 [00:00<?, ?it/s]"
      ]
     },
     "metadata": {},
     "output_type": "display_data"
    },
    {
     "name": "stdout",
     "output_type": "stream",
     "text": [
      "91 docs, 0 clusters in 사설·칼럼 , 소요시간 : 0:00:00.092753\n"
     ]
    },
    {
     "data": {
      "application/vnd.jupyter.widget-view+json": {
       "model_id": "8a317475504c454881a902a2a8549168",
       "version_major": 2,
       "version_minor": 0
      },
      "text/plain": [
       "Batches:   0%|          | 0/38 [00:00<?, ?it/s]"
      ]
     },
     "metadata": {},
     "output_type": "display_data"
    },
    {
     "name": "stdout",
     "output_type": "stream",
     "text": [
      "1188 docs, 14 clusters in 정치 , 소요시간 : 0:00:02.457491\n"
     ]
    },
    {
     "data": {
      "application/vnd.jupyter.widget-view+json": {
       "model_id": "619559fdf7e74ea1852a23280bf0ce46",
       "version_major": 2,
       "version_minor": 0
      },
      "text/plain": [
       "Batches:   0%|          | 0/9 [00:00<?, ?it/s]"
      ]
     },
     "metadata": {},
     "output_type": "display_data"
    },
    {
     "name": "stdout",
     "output_type": "stream",
     "text": [
      "259 docs, 2 clusters in 교육 , 소요시간 : 0:00:00.291253\n"
     ]
    },
    {
     "data": {
      "application/vnd.jupyter.widget-view+json": {
       "model_id": "e590e0a19d1b4cc1a404ce83ac72b00a",
       "version_major": 2,
       "version_minor": 0
      },
      "text/plain": [
       "Batches:   0%|          | 0/3 [00:00<?, ?it/s]"
      ]
     },
     "metadata": {},
     "output_type": "display_data"
    },
    {
     "name": "stdout",
     "output_type": "stream",
     "text": [
      "79 docs, 0 clusters in 라이프스타일 , 소요시간 : 0:00:00.094746\n"
     ]
    },
    {
     "data": {
      "application/vnd.jupyter.widget-view+json": {
       "model_id": "39c99080a3944377ac22671584c197a0",
       "version_major": 2,
       "version_minor": 0
      },
      "text/plain": [
       "Batches:   0%|          | 0/9 [00:00<?, ?it/s]"
      ]
     },
     "metadata": {},
     "output_type": "display_data"
    },
    {
     "name": "stdout",
     "output_type": "stream",
     "text": [
      "266 docs, 3 clusters in 스포츠 , 소요시간 : 0:00:00.310171\n",
      " Total docs : 12006 in 11 Categories , 소요시간 : 0:00:46.768052\n",
      "작업 종료시간 :  2021-12-13 14:58:28.573904 , 총 소요시간 : 0:00:46.773040\n"
     ]
    }
   ],
   "source": [
    "# 카테고리별 클러스터링\n",
    "start = datetime.now()\n",
    "print('작업 시작시간 : ', start)\n",
    "previous = start\n",
    "bt_prev = start\n",
    "\n",
    "tot_df = pd.DataFrame()\n",
    "\n",
    "print(' processing start... with cluster_mode :', cluster_mode)\n",
    "\n",
    "category = df.category.unique()\n",
    "\n",
    "df_category = []\n",
    "for categ in category:\n",
    "    df_category.append(df[df.category==categ])\n",
    "cnt = 0\n",
    "rslt = []\n",
    "topics = []\n",
    "#순환하며 데이터 만들어 df에 고쳐보자\n",
    "for idx, dt in enumerate(df_category):\n",
    "\n",
    "    corpus = dt[cluster_mode].values.tolist()\n",
    "    # '[보통공통된꼭지제목]' 형태를 제거해서 클러스터링시 품질을 높인다.\n",
    "    for i, cp in enumerate(corpus):\n",
    "        corpus[i] = re.sub(r'\\[(.*?)\\]', '', cp)\n",
    "#     print(corpus[:10])\n",
    "    corpus_embeddings = model.encode(corpus, show_progress_bar=True)\n",
    "\n",
    "    docs_df, docs_per_topic = hdbscan_process(corpus, corpus_embeddings,\n",
    "                                               umap=False, n_components=15, #연산량 줄이기 위해 umap 사용시 True \n",
    "                                               method='leaf',\n",
    "                                               min_cluster_size=5,\n",
    "                                               min_samples=30,\n",
    "                                               )\n",
    "    cnt += len(docs_df)\n",
    "\n",
    "    rslt.append(docs_df)\n",
    "    topics.append(docs_per_topic)\n",
    "    dt['cluster'] = docs_df['Topic'].values.tolist()\n",
    "    tot_df = pd.concat([tot_df,dt])\n",
    "\n",
    "    bt = datetime.now()\n",
    "    print(len(docs_df), 'docs,', len(docs_per_topic)-1 ,'clusters in', category[idx], ', 소요시간 :', bt - bt_prev)\n",
    "    bt_prev = bt\n",
    "now = datetime.now()\n",
    "print(' Total docs :', cnt,'in', len(rslt), 'Categories', ', 소요시간 :', now - previous)\n",
    "previous = now\n",
    "\n",
    "#cluster update    \n",
    "\n",
    "df['cluster'] = tot_df['cluster'].astype(str)\n",
    "    \n",
    "end = datetime.now()\n",
    "print('작업 종료시간 : ', end, ', 총 소요시간 :', end - start)"
   ]
  },
  {
   "cell_type": "code",
   "execution_count": 9,
   "id": "3cea63ba",
   "metadata": {},
   "outputs": [],
   "source": [
    "categ = '사회'\n",
    "condition = (df.category == categ) & (df.cluster == '2') # 조건식 작성"
   ]
  },
  {
   "cell_type": "code",
   "execution_count": 10,
   "id": "63114cde",
   "metadata": {
    "scrolled": false
   },
   "outputs": [
    {
     "name": "stdout",
     "output_type": "stream",
     "text": [
      "12\n"
     ]
    },
    {
     "data": {
      "text/plain": [
       "['사제 총 만들어 판 일당 적발…한국도 총기 안전지대 아니다',\n",
       " '美서 총기부품 위장 수입… 총기 제작·판매 7명 적발',\n",
       " '부품 밀수해 총기 만들어 판매… 현역 군인 포함한 일당 검거',\n",
       " \"부품 들여와 진짜 권총 만들었다, 300만원에 판 '고스트 건' [영상]\",\n",
       " '불법 수입한 부품 이용해 권총·소총 제작·판매한 현역 군인 포함 7명 검거',\n",
       " '부품 밀수해 총기 제작…현직 군인도 연루',\n",
       " '부품 밀수해 총기 제작…현직 군인도 연루',\n",
       " '경찰, 해외서 부품 수입해 총기류 제조·판매 한 일당 적발',\n",
       " \"미국 총기 난사 '고스트건'…부품 밀수 후 국내서 총기 제작 판매 적발\",\n",
       " '부품 밀수해 총기 제조...SNS로 판매까지',\n",
       " '부품 밀수해 국내서 총기 제조·판매...6정 적발',\n",
       " '진짜 총 만들어 판 총기 동호회원 적발…부품 밀수한 ‘고스트건’']"
      ]
     },
     "execution_count": 10,
     "metadata": {},
     "output_type": "execute_result"
    }
   ],
   "source": [
    "test = df[condition]\n",
    "print(len(test))\n",
    "test.title.values.tolist()"
   ]
  },
  {
   "cell_type": "code",
   "execution_count": 11,
   "id": "8bc5869c",
   "metadata": {},
   "outputs": [],
   "source": [
    "# 클러스터별 주제어 추출확인\n",
    "from sklearn.feature_extraction.text import CountVectorizer\n",
    "\n",
    "def c_tf_idf(documents, m, ngram_range=(1, 1)):\n",
    "    count = CountVectorizer(ngram_range=ngram_range, stop_words=\"english\").fit(documents)\n",
    "    t = count.transform(documents).toarray()\n",
    "    w = t.sum(axis=1)\n",
    "    tf = np.divide(t.T, w)\n",
    "    sum_t = t.sum(axis=0)\n",
    "    idf = np.log(np.divide(m, sum_t)).reshape(-1, 1)\n",
    "    tf_idf = np.multiply(tf, idf)\n",
    "\n",
    "    return tf_idf, count\n",
    "\n",
    "def extract_top_n_words_per_topic(tf_idf, count, docs_per_topic, n=20):\n",
    "    words = count.get_feature_names_out()\n",
    "    labels = list(docs_per_topic.Topic)\n",
    "    tf_idf_transposed = tf_idf.T\n",
    "    indices = tf_idf_transposed.argsort()[:, -n:]\n",
    "    top_n_words = {label: [(words[j], tf_idf_transposed[i][j]) for j in indices[i]][::-1] for i, label in enumerate(labels)}\n",
    "    return top_n_words\n",
    "\n",
    "def extract_topic_sizes(df):\n",
    "    topic_sizes = (df.groupby(['Topic'])\n",
    "                     .Doc\n",
    "                     .count()\n",
    "                     .reset_index()\n",
    "                     .rename({\"Topic\": \"Topic\", \"Doc\": \"Size\"}, axis='columns')\n",
    "                     .sort_values(\"Size\", ascending=False))\n",
    "    return topic_sizes"
   ]
  },
  {
   "cell_type": "code",
   "execution_count": 12,
   "id": "3d306570",
   "metadata": {},
   "outputs": [],
   "source": [
    "# 카테고리별 클러스터별 주제어 추출확인\n",
    "category_id = 3"
   ]
  },
  {
   "cell_type": "code",
   "execution_count": 13,
   "id": "b0d8c68a",
   "metadata": {},
   "outputs": [
    {
     "data": {
      "text/html": [
       "<div>\n",
       "<style scoped>\n",
       "    .dataframe tbody tr th:only-of-type {\n",
       "        vertical-align: middle;\n",
       "    }\n",
       "\n",
       "    .dataframe tbody tr th {\n",
       "        vertical-align: top;\n",
       "    }\n",
       "\n",
       "    .dataframe thead th {\n",
       "        text-align: right;\n",
       "    }\n",
       "</style>\n",
       "<table border=\"1\" class=\"dataframe\">\n",
       "  <thead>\n",
       "    <tr style=\"text-align: right;\">\n",
       "      <th></th>\n",
       "      <th>Topic</th>\n",
       "      <th>Size</th>\n",
       "    </tr>\n",
       "  </thead>\n",
       "  <tbody>\n",
       "    <tr>\n",
       "      <th>0</th>\n",
       "      <td>-1</td>\n",
       "      <td>3811</td>\n",
       "    </tr>\n",
       "    <tr>\n",
       "      <th>35</th>\n",
       "      <td>34</td>\n",
       "      <td>128</td>\n",
       "    </tr>\n",
       "    <tr>\n",
       "      <th>40</th>\n",
       "      <td>39</td>\n",
       "      <td>66</td>\n",
       "    </tr>\n",
       "    <tr>\n",
       "      <th>29</th>\n",
       "      <td>28</td>\n",
       "      <td>50</td>\n",
       "    </tr>\n",
       "    <tr>\n",
       "      <th>42</th>\n",
       "      <td>41</td>\n",
       "      <td>44</td>\n",
       "    </tr>\n",
       "    <tr>\n",
       "      <th>39</th>\n",
       "      <td>38</td>\n",
       "      <td>43</td>\n",
       "    </tr>\n",
       "    <tr>\n",
       "      <th>41</th>\n",
       "      <td>40</td>\n",
       "      <td>33</td>\n",
       "    </tr>\n",
       "    <tr>\n",
       "      <th>16</th>\n",
       "      <td>15</td>\n",
       "      <td>33</td>\n",
       "    </tr>\n",
       "    <tr>\n",
       "      <th>12</th>\n",
       "      <td>11</td>\n",
       "      <td>30</td>\n",
       "    </tr>\n",
       "    <tr>\n",
       "      <th>32</th>\n",
       "      <td>31</td>\n",
       "      <td>27</td>\n",
       "    </tr>\n",
       "  </tbody>\n",
       "</table>\n",
       "</div>"
      ],
      "text/plain": [
       "    Topic  Size\n",
       "0      -1  3811\n",
       "35     34   128\n",
       "40     39    66\n",
       "29     28    50\n",
       "42     41    44\n",
       "39     38    43\n",
       "41     40    33\n",
       "16     15    33\n",
       "12     11    30\n",
       "32     31    27"
      ]
     },
     "execution_count": 13,
     "metadata": {},
     "output_type": "execute_result"
    }
   ],
   "source": [
    "tf_idf, count = c_tf_idf(topics[category_id].Doc.values, m=len(corpus))\n",
    "\n",
    "top_n_words = extract_top_n_words_per_topic(tf_idf, count, topics[category_id], n=20)\n",
    "topic_sizes = extract_topic_sizes(rslt[category_id]); topic_sizes.head(10)"
   ]
  },
  {
   "cell_type": "code",
   "execution_count": 14,
   "id": "ca0d4782",
   "metadata": {},
   "outputs": [
    {
     "data": {
      "text/plain": [
       "54"
      ]
     },
     "execution_count": 14,
     "metadata": {},
     "output_type": "execute_result"
    }
   ],
   "source": [
    "len(topic_sizes)"
   ]
  },
  {
   "cell_type": "code",
   "execution_count": 15,
   "id": "150edfdf",
   "metadata": {},
   "outputs": [
    {
     "data": {
      "text/plain": [
       "[('부품', 0.31853506949394694),\n",
       " ('총기', 0.3008339474751164),\n",
       " ('밀수해', 0.19291545613337857),\n",
       " ('적발', 0.16021065813934854),\n",
       " ('판매', 0.1504169737375582),\n",
       " ('제작', 0.12561961336056837),\n",
       " ('제조', 0.12224860041733422),\n",
       " ('만들어', 0.11043893707437799),\n",
       " ('일당', 0.10205984758549116),\n",
       " ('고스트건', 0.09495823549945152)]"
      ]
     },
     "execution_count": 15,
     "metadata": {},
     "output_type": "execute_result"
    }
   ],
   "source": [
    "top_n_words[2][:10]"
   ]
  }
 ],
 "metadata": {
  "kernelspec": {
   "display_name": "Python37",
   "language": "python",
   "name": "python37"
  },
  "language_info": {
   "codemirror_mode": {
    "name": "ipython",
    "version": 3
   },
   "file_extension": ".py",
   "mimetype": "text/x-python",
   "name": "python",
   "nbconvert_exporter": "python",
   "pygments_lexer": "ipython3",
   "version": "3.7.11"
  }
 },
 "nbformat": 4,
 "nbformat_minor": 5
}
